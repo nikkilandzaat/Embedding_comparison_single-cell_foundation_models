{
 "cells": [
  {
   "cell_type": "markdown",
   "metadata": {},
   "source": [
    "#  Data Preparation NSCLCs (donor 1)"
   ]
  },
  {
   "cell_type": "markdown",
   "metadata": {},
   "source": [
    "This notebook prepares the NSCLC dataset for further analysis."
   ]
  },
  {
   "cell_type": "code",
   "execution_count": 9,
   "metadata": {},
   "outputs": [],
   "source": [
    "# loading packages\n",
    "from scipy.io import mmread\n",
    "import pandas as pd\n",
    "import anndata\n",
    "import matplotlib.pyplot as plt\n",
    "import numpy as np\n",
    "import gzip\n",
    "import shutil\n",
    "import os\n",
    "import scanpy as sc"
   ]
  },
  {
   "cell_type": "markdown",
   "metadata": {},
   "source": [
    "## Loading data"
   ]
  },
  {
   "cell_type": "markdown",
   "metadata": {},
   "source": [
    "Use sc.read_10x_mtx to load the 10x-Genomics-formatted data as an AnnData file."
   ]
  },
  {
   "cell_type": "code",
   "execution_count": 22,
   "metadata": {},
   "outputs": [],
   "source": [
    "# directory containing the zipped folders\n",
    "folder_path = \"/home/cog/nlandzaat/rep_learning_sc_foundation/raw/donor_1/sample_feature_bc_matrix\"\n",
    "\n",
    "# function to read gzipped files\n",
    "def read_gzip(file_path):\n",
    "    with gzip.open(file_path, 'rb') as f:\n",
    "        return f.read().decode('utf-8')\n",
    "\n",
    "# read matrix\n",
    "matrix_path = os.path.join(folder_path, \"matrix.mtx.gz\")\n",
    "matrix_content = read_gzip(matrix_path)\n",
    "\n",
    "# read features\n",
    "features_path = os.path.join(folder_path, \"features.tsv.gz\")\n",
    "features_content = read_gzip(features_path)\n",
    "\n",
    "# read barcodes\n",
    "barcodes_path = os.path.join(folder_path, \"barcodes.tsv.gz\")\n",
    "barcodes_content = read_gzip(barcodes_path)\n",
    "\n",
    "# load data using scanpy\n",
    "adata_donor_1 = sc.read_10x_mtx(folder_path, var_names='gene_symbols')"
   ]
  },
  {
   "cell_type": "markdown",
   "metadata": {},
   "source": [
    "## Preprocessing"
   ]
  },
  {
   "cell_type": "markdown",
   "metadata": {},
   "source": [
    "Adjust data in order to make it suitable as input data for the foundation models. This includes creating a column containing batch information and creating a layer containing the raw counts. For PCA, UMAP, Geneformer and scGPT, cells are typically represented by rows and genes by columns. The Anndata object is saved to the specified path."
   ]
  },
  {
   "cell_type": "code",
   "execution_count": 23,
   "metadata": {},
   "outputs": [],
   "source": [
    "# access barcodes from the index\n",
    "barcodes = adata_donor_1.obs.index.tolist()\n",
    "\n",
    "# create cell batches in obs\n",
    "adata_donor_1.obs[\"batch\"] = [\"donor 1\" for i in range (len(adata_donor_1.obs))]\n",
    "\n",
    "# create a layer named \"counts\" and store the raw counts in it\n",
    "adata_donor_1.layers[\"counts\"] = adata_donor_1.X"
   ]
  },
  {
   "cell_type": "code",
   "execution_count": 25,
   "metadata": {},
   "outputs": [
    {
     "name": "stderr",
     "output_type": "stream",
     "text": [
      "... storing 'batch' as categorical\n",
      "... storing 'feature_types' as categorical\n"
     ]
    }
   ],
   "source": [
    "# define the path where you want to save the AnnData object\n",
    "save_path = \"/home/cog/nlandzaat/rep_learning_sc_foundation/analysis/nlandzaat/2.NSCLC notebooks/adata_donor_1.h5ad\"\n",
    "\n",
    "# save the AnnData object\n",
    "adata_donor_1.write_h5ad(save_path)"
   ]
  }
 ],
 "metadata": {
  "kernelspec": {
   "display_name": "Python 3 (ipykernel)",
   "language": "python",
   "name": "python3"
  },
  "language_info": {
   "codemirror_mode": {
    "name": "ipython",
    "version": 3
   },
   "file_extension": ".py",
   "mimetype": "text/x-python",
   "name": "python",
   "nbconvert_exporter": "python",
   "pygments_lexer": "ipython3",
   "version": "3.9.18"
  }
 },
 "nbformat": 4,
 "nbformat_minor": 2
}
